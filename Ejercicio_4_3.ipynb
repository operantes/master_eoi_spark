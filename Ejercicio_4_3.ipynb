{
 "cells": [
  {
   "cell_type": "markdown",
   "metadata": {},
   "source": [
    "# Convertir un RDD en un DataFrame usando un `schema`"
   ]
  },
  {
   "cell_type": "code",
   "execution_count": null,
   "metadata": {
    "collapsed": true
   },
   "outputs": [],
   "source": [
    "import org.apache.spark.sql.SparkSession"
   ]
  },
  {
   "cell_type": "code",
   "execution_count": null,
   "metadata": {
    "collapsed": true
   },
   "outputs": [],
   "source": [
    "val spark = SparkSession.builder.getOrCreate()"
   ]
  },
  {
   "cell_type": "code",
   "execution_count": null,
   "metadata": {
    "collapsed": true
   },
   "outputs": [],
   "source": [
    "import spark.implicits._"
   ]
  },
  {
   "cell_type": "code",
   "execution_count": null,
   "metadata": {
    "collapsed": true
   },
   "outputs": [],
   "source": [
    "import org.apache.spark.sql.types._"
   ]
  },
  {
   "cell_type": "code",
   "execution_count": null,
   "metadata": {
    "collapsed": true
   },
   "outputs": [],
   "source": [
    "val MesaElectoralSchema = StructType(Seq(\n",
    "    StructField(\"Distrito\", IntegerType, false),\n",
    "    StructField(\"Barrio\", IntegerType, false),\n",
    "    StructField(\"Seccion\", IntegerType, false),\n",
    "    StructField(\"Mesa\", StringType, false),\n",
    "    StructField(\"Censo\", IntegerType, false),\n",
    "    StructField(\"Abstencion\", IntegerType, true),\n",
    "    StructField(\"Nulos\", IntegerType, true),\n",
    "    StructField(\"Blanco\", IntegerType, true),\n",
    "    StructField(\"Emitidos\", IntegerType, false))) "
   ]
  },
  {
   "cell_type": "code",
   "execution_count": null,
   "metadata": {
    "collapsed": true
   },
   "outputs": [],
   "source": [
    "object StringUtils {\n",
    "    implicit class StringImprovements(val s:String) {\n",
    "        import scala.util.control.Exception._\n",
    "        def toIntSafe = catching(classOf[NumberFormatException]) opt s.toInt\n",
    "    }\n",
    "}"
   ]
  },
  {
   "cell_type": "code",
   "execution_count": null,
   "metadata": {
    "collapsed": true
   },
   "outputs": [],
   "source": [
    "import StringUtils._"
   ]
  },
  {
   "cell_type": "code",
   "execution_count": null,
   "metadata": {
    "collapsed": true
   },
   "outputs": [],
   "source": [
    "import org.apache.spark.sql.Row"
   ]
  },
  {
   "cell_type": "code",
   "execution_count": null,
   "metadata": {
    "collapsed": true
   },
   "outputs": [],
   "source": [
    "def stringToRow(row:String):Row = {\n",
    "    val x = row.split(\";\")\n",
    "    Row(x(0).toInt, x(1).toInt, x(2).toInt, x(3).slice(0, 1), x(4).toInt, \n",
    "                    x(5).toIntSafe.getOrElse(null), x(7).toIntSafe.getOrElse(null), x(9).toIntSafe.getOrElse(null), \n",
    "                    (x(11).toInt + x(12).toInt + x(13).toInt + x(14).toInt +\n",
    "                    x(15).toInt + x(16).toInt + x(17).toInt + x(18).toInt + x(19).toInt +\n",
    "                    x(20).toInt + x(21).toInt + x(22).toInt + x(23).toInt + x(24).toInt +\n",
    "                    x(25).toInt + x(26).toInt + x(27).toInt + x(28).toInt + x(29).toInt +\n",
    "                    x(30).toInt + x(31).toInt + x(32).toInt))\n",
    "}"
   ]
  },
  {
   "cell_type": "code",
   "execution_count": null,
   "metadata": {
    "collapsed": true
   },
   "outputs": [],
   "source": [
    "val elecciones_2015_rdd = sc.textFile(\"hdfs:///eoi/s4/elecciones/Elecciones_2015_NH.csv\")"
   ]
  },
  {
   "cell_type": "code",
   "execution_count": null,
   "metadata": {
    "collapsed": true
   },
   "outputs": [],
   "source": [
    "val elecciones_2015 = elecciones_2015_rdd.map(r => stringToRow(r))"
   ]
  },
  {
   "cell_type": "code",
   "execution_count": null,
   "metadata": {
    "collapsed": true
   },
   "outputs": [],
   "source": [
    "val elecciones_2015_DF = spark.createDataFrame(elecciones_2015, MesaElectoralSchema)"
   ]
  },
  {
   "cell_type": "code",
   "execution_count": null,
   "metadata": {
    "collapsed": true
   },
   "outputs": [],
   "source": [
    "elecciones_2015_DF.show"
   ]
  },
  {
   "cell_type": "code",
   "execution_count": null,
   "metadata": {
    "collapsed": true
   },
   "outputs": [],
   "source": [
    "elecciones_2015_DF.printSchema"
   ]
  },
  {
   "cell_type": "code",
   "execution_count": null,
   "metadata": {
    "collapsed": true
   },
   "outputs": [],
   "source": [
    "elecciones_2015_DF.columns"
   ]
  },
  {
   "cell_type": "code",
   "execution_count": null,
   "metadata": {
    "collapsed": true
   },
   "outputs": [],
   "source": [
    "elecciones_2015_DF.dtypes"
   ]
  },
  {
   "cell_type": "code",
   "execution_count": null,
   "metadata": {
    "collapsed": true
   },
   "outputs": [],
   "source": [
    "case class MesaElectoral (Distrito:Int, Barrio:Int, Seccion:Int, \n",
    "                          Mesa:String, Censo:Int, Abstencion:Option[Int], \n",
    "                          Nulos:Option[Int], Blanco:Option[Int], Emitidos:Int)"
   ]
  },
  {
   "cell_type": "code",
   "execution_count": null,
   "metadata": {
    "collapsed": true
   },
   "outputs": [],
   "source": [
    "val elecciones_2015_DS = elecciones_2015_DF.as[MesaElectoral]"
   ]
  },
  {
   "cell_type": "code",
   "execution_count": null,
   "metadata": {
    "collapsed": true
   },
   "outputs": [],
   "source": [
    "elecciones_2015_DS.show"
   ]
  },
  {
   "cell_type": "code",
   "execution_count": null,
   "metadata": {
    "collapsed": true
   },
   "outputs": [],
   "source": [
    "elecciones_2015_DS.printSchema"
   ]
  },
  {
   "cell_type": "code",
   "execution_count": null,
   "metadata": {
    "collapsed": true
   },
   "outputs": [],
   "source": [
    "elecciones_2015_DS.columns"
   ]
  },
  {
   "cell_type": "code",
   "execution_count": null,
   "metadata": {
    "collapsed": true
   },
   "outputs": [],
   "source": [
    "elecciones_2015_DS.dtypes"
   ]
  }
 ],
 "metadata": {
  "kernelspec": {
   "display_name": "Spark - Scala",
   "language": "scala",
   "name": "spark_scala"
  },
  "language_info": {
   "codemirror_mode": "text/x-scala",
   "file_extension": ".scala",
   "mimetype": "text/x-scala",
   "name": "scala",
   "pygments_lexer": "scala",
   "version": "2.11.8"
  }
 },
 "nbformat": 4,
 "nbformat_minor": 2
}
