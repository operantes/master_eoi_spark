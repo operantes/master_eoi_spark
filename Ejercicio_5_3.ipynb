{
 "cells": [
  {
   "cell_type": "markdown",
   "metadata": {},
   "source": [
    "# Ventanas temporales de procesamiento - `window`, `countByWindow` y `countByValueAndWindow`"
   ]
  },
  {
   "cell_type": "code",
   "execution_count": null,
   "metadata": {
    "collapsed": true
   },
   "outputs": [],
   "source": [
    "import org.apache.spark._"
   ]
  },
  {
   "cell_type": "code",
   "execution_count": null,
   "metadata": {
    "collapsed": true
   },
   "outputs": [],
   "source": [
    "import org.apache.spark.streaming._"
   ]
  },
  {
   "cell_type": "code",
   "execution_count": null,
   "metadata": {
    "collapsed": true,
    "scrolled": true
   },
   "outputs": [],
   "source": [
    "val streamctx = new StreamingContext(sc, Seconds(15))"
   ]
  },
  {
   "cell_type": "code",
   "execution_count": null,
   "metadata": {
    "collapsed": true,
    "scrolled": true
   },
   "outputs": [],
   "source": [
    "val datos = streamctx.socketTextStream(\"localhost\", 19000)"
   ]
  },
  {
   "cell_type": "code",
   "execution_count": null,
   "metadata": {
    "collapsed": true
   },
   "outputs": [],
   "source": [
    "// Obligatorio al trabajar con estados.\n",
    "streamctx.checkpoint(\"/eoi/streaming/checkpoint\")"
   ]
  },
  {
   "cell_type": "code",
   "execution_count": null,
   "metadata": {
    "collapsed": true
   },
   "outputs": [],
   "source": [
    "datos.print()"
   ]
  },
  {
   "cell_type": "code",
   "execution_count": null,
   "metadata": {
    "collapsed": true,
    "scrolled": true
   },
   "outputs": [],
   "source": [
    "case class Medicion(nodo:String, sensor:String, valor:String)"
   ]
  },
  {
   "cell_type": "code",
   "execution_count": null,
   "metadata": {
    "collapsed": true
   },
   "outputs": [],
   "source": [
    "val medidas = datos.flatMap(x => {\n",
    "    val campos = x.split(\";\")\n",
    "    try {\n",
    "        List(Medicion(campos(0), campos(1), campos(2)))\n",
    "    }\n",
    "    catch {\n",
    "        case e : Throwable => {\n",
    "            // LLamar al sistema de notificación en caso de fallo en la entrada. \n",
    "        }\n",
    "        List ()\n",
    "    }\n",
    "})"
   ]
  },
  {
   "cell_type": "code",
   "execution_count": null,
   "metadata": {
    "collapsed": true
   },
   "outputs": [],
   "source": [
    "// Medidas de dentro de la ventana (45 segundos con desplazamiento de 15 segundos)\n",
    "val ventana = medidas.map(x => (x.sensor, x.valor)).window(Seconds(45), Seconds(15))"
   ]
  },
  {
   "cell_type": "code",
   "execution_count": null,
   "metadata": {
    "collapsed": true
   },
   "outputs": [],
   "source": [
    "ventana.print()"
   ]
  },
  {
   "cell_type": "code",
   "execution_count": null,
   "metadata": {
    "collapsed": true
   },
   "outputs": [],
   "source": [
    "// Número de medidas dentro de la ventana (45 segundos con desplazamiento de 15 segundos)\n",
    "val contar_ventana = medidas.map(x => (x.sensor, x.valor)).countByWindow(Seconds(45), Seconds(15))"
   ]
  },
  {
   "cell_type": "code",
   "execution_count": null,
   "metadata": {
    "collapsed": true
   },
   "outputs": [],
   "source": [
    "contar_ventana.print()"
   ]
  },
  {
   "cell_type": "code",
   "execution_count": null,
   "metadata": {
    "collapsed": true
   },
   "outputs": [],
   "source": [
    "// Número de medidas dentro de la ventana (45 segundos con desplazamiento de 15 segundos)\n",
    "val contar_ventana_valor = medidas.map(x => (x.sensor)).countByValueAndWindow(Seconds(45), Seconds(15))"
   ]
  },
  {
   "cell_type": "code",
   "execution_count": null,
   "metadata": {
    "collapsed": true
   },
   "outputs": [],
   "source": [
    "contar_ventana_valor.print()"
   ]
  },
  {
   "cell_type": "code",
   "execution_count": null,
   "metadata": {
    "collapsed": true
   },
   "outputs": [],
   "source": [
    "streamctx.start()"
   ]
  },
  {
   "cell_type": "code",
   "execution_count": null,
   "metadata": {
    "collapsed": true
   },
   "outputs": [],
   "source": [
    "streamctx.stop()"
   ]
  },
  {
   "cell_type": "markdown",
   "metadata": {},
   "source": [
    "# Ventanas temporales de procesamiento - `reduceByWindow`"
   ]
  },
  {
   "cell_type": "code",
   "execution_count": null,
   "metadata": {
    "collapsed": true,
    "scrolled": false
   },
   "outputs": [],
   "source": [
    "val streamctx = new StreamingContext(sc, Seconds(15))"
   ]
  },
  {
   "cell_type": "code",
   "execution_count": null,
   "metadata": {
    "collapsed": true,
    "scrolled": true
   },
   "outputs": [],
   "source": [
    "val datos = streamctx.socketTextStream(\"localhost\", 19000)"
   ]
  },
  {
   "cell_type": "code",
   "execution_count": null,
   "metadata": {
    "collapsed": true
   },
   "outputs": [],
   "source": [
    "// Obligatorio al trabajar con estados.\n",
    "streamctx.checkpoint(\"/eoi/streaming/checkpoint\")"
   ]
  },
  {
   "cell_type": "code",
   "execution_count": null,
   "metadata": {
    "collapsed": true
   },
   "outputs": [],
   "source": [
    "datos.print()"
   ]
  },
  {
   "cell_type": "code",
   "execution_count": null,
   "metadata": {
    "collapsed": true,
    "scrolled": true
   },
   "outputs": [],
   "source": [
    "case class Medicion(nodo:String, sensor:String, valor:String)"
   ]
  },
  {
   "cell_type": "code",
   "execution_count": null,
   "metadata": {
    "collapsed": true
   },
   "outputs": [],
   "source": [
    "val medidas = datos.flatMap(x => {\n",
    "    val campos = x.split(\";\")\n",
    "    try {\n",
    "        List(Medicion(campos(0), campos(1), campos(2)))\n",
    "    }\n",
    "    catch {\n",
    "        case e : Throwable => {\n",
    "            // LLamar al sistema de notificación en caso de fallo en la entrada. \n",
    "        }\n",
    "        List ()\n",
    "    }\n",
    "})"
   ]
  },
  {
   "cell_type": "code",
   "execution_count": null,
   "metadata": {
    "collapsed": true
   },
   "outputs": [],
   "source": [
    "// Medidas de dentro de la ventana (45 segundos con desplazamiento de 15 segundos)\n",
    "val ventana = medidas.map(x => (x.nodo, x.sensor, x.valor)).window(Seconds(45), Seconds(15))"
   ]
  },
  {
   "cell_type": "code",
   "execution_count": null,
   "metadata": {
    "collapsed": true
   },
   "outputs": [],
   "source": [
    "ventana.print"
   ]
  },
  {
   "cell_type": "code",
   "execution_count": null,
   "metadata": {
    "collapsed": true
   },
   "outputs": [],
   "source": [
    "// Máximo de temperatura dentro de la ventana (45 segundos con desplazamiento de 15 segundos)\n",
    "val reduce_ventana_1 = medidas.filter(x => x.sensor == \"Temp\").\n",
    "map(x => (x.sensor, x.valor.toDouble)).\n",
    "reduceByWindow((v1, v2) => if (v1._2 > v2._2) v1 else v2, Seconds(45), Seconds(15))"
   ]
  },
  {
   "cell_type": "code",
   "execution_count": null,
   "metadata": {
    "collapsed": true
   },
   "outputs": [],
   "source": [
    "reduce_ventana_1.print"
   ]
  },
  {
   "cell_type": "code",
   "execution_count": null,
   "metadata": {
    "collapsed": true
   },
   "outputs": [],
   "source": [
    "// Medidas producidas por cada nodo dentro de la ventana (45 segundos con desplazamiento de 15 segundos)\n",
    "val reduce_ventana_2 = medidas.map(x => (x.nodo, 1)).reduceByWindow((v1,v2) => (v1._1, v1._2 + v2._2), \n",
    "                                                                    (w1, w2) => (w1._1, w1._2 - w2._2), \n",
    "                                                                    Seconds(45), Seconds(15))"
   ]
  },
  {
   "cell_type": "code",
   "execution_count": null,
   "metadata": {
    "collapsed": true
   },
   "outputs": [],
   "source": [
    "reduce_ventana_2.print"
   ]
  },
  {
   "cell_type": "code",
   "execution_count": null,
   "metadata": {
    "collapsed": true
   },
   "outputs": [],
   "source": [
    "streamctx.start()"
   ]
  },
  {
   "cell_type": "code",
   "execution_count": null,
   "metadata": {
    "collapsed": true
   },
   "outputs": [],
   "source": [
    "streamctx.stop()"
   ]
  },
  {
   "cell_type": "markdown",
   "metadata": {},
   "source": [
    "# Ventanas temporales de procesamiento - `reduceByKeyAndWindow`"
   ]
  },
  {
   "cell_type": "code",
   "execution_count": null,
   "metadata": {
    "collapsed": true,
    "scrolled": true
   },
   "outputs": [],
   "source": [
    "val streamctx = new StreamingContext(sc, Seconds(15))"
   ]
  },
  {
   "cell_type": "code",
   "execution_count": null,
   "metadata": {
    "collapsed": true,
    "scrolled": true
   },
   "outputs": [],
   "source": [
    "val datos = streamctx.socketTextStream(\"localhost\", 19000)"
   ]
  },
  {
   "cell_type": "code",
   "execution_count": null,
   "metadata": {
    "collapsed": true
   },
   "outputs": [],
   "source": [
    "// Obligatorio al trabajar con estados.\n",
    "streamctx.checkpoint(\"/eoi/streaming/checkpoint\")"
   ]
  },
  {
   "cell_type": "code",
   "execution_count": null,
   "metadata": {
    "collapsed": true
   },
   "outputs": [],
   "source": [
    "datos.print()"
   ]
  },
  {
   "cell_type": "code",
   "execution_count": null,
   "metadata": {
    "collapsed": true,
    "scrolled": true
   },
   "outputs": [],
   "source": [
    "case class Medicion(nodo:String, sensor:String, valor:String)"
   ]
  },
  {
   "cell_type": "code",
   "execution_count": null,
   "metadata": {
    "collapsed": true
   },
   "outputs": [],
   "source": [
    "val medidas = datos.flatMap(x => {\n",
    "    val campos = x.split(\";\")\n",
    "    try {\n",
    "        List(Medicion(campos(0), campos(1), campos(2)))\n",
    "    }\n",
    "    catch {\n",
    "        case e : Throwable => {\n",
    "            // LLamar al sistema de notificación en caso de fallo en la entrada. \n",
    "        }\n",
    "        List ()\n",
    "    }\n",
    "})"
   ]
  },
  {
   "cell_type": "code",
   "execution_count": null,
   "metadata": {
    "collapsed": true
   },
   "outputs": [],
   "source": [
    "// Medidas de dentro de la ventana (45 segundos con desplazamiento de 15 segundos)\n",
    "val ventana = medidas.map(x => (x.nodo, x.sensor, x.valor)).window(Seconds(45), Seconds(15))"
   ]
  },
  {
   "cell_type": "code",
   "execution_count": null,
   "metadata": {
    "collapsed": true
   },
   "outputs": [],
   "source": [
    "ventana.print()"
   ]
  },
  {
   "cell_type": "code",
   "execution_count": null,
   "metadata": {
    "collapsed": true
   },
   "outputs": [],
   "source": [
    "// Número de medidas producidas de cada tipo dentro de la ventana (45 segundos con desplazamiento de 15 segundos)\n",
    "val reduce_ventana_1 = medidas.filter(x => x.sensor == \"Temp\" || x.sensor == \"Humd\").\n",
    "map(x => (x.sensor, 1)).\n",
    "reduceByKeyAndWindow((v1:Int, v2:Int) => v1 + v2, Seconds(45), Seconds(15))"
   ]
  },
  {
   "cell_type": "code",
   "execution_count": null,
   "metadata": {
    "collapsed": true
   },
   "outputs": [],
   "source": [
    "reduce_ventana_1.print"
   ]
  },
  {
   "cell_type": "code",
   "execution_count": null,
   "metadata": {
    "collapsed": true
   },
   "outputs": [],
   "source": [
    "// Número de medidas producidas de cada tipo dentro de la ventana (45 segundos con desplazamiento de 15 segundos).\n",
    "// Sólo incluir aquellas que aparecen más de una vez.\n",
    "val reduce_ventana_2 = medidas.filter(x => x.sensor == \"Temp\" || x.sensor == \"Humd\").\n",
    "map(x => (x.sensor, 1)).\n",
    "reduceByKeyAndWindow((v1:Int, v2:Int) => v1 + v2, \n",
    "                (w1:Int, w2:Int) => w1 - w2, \n",
    "                Seconds(45), Seconds(15), 3, (x: (String,Int)) => x._2 != 0)"
   ]
  },
  {
   "cell_type": "code",
   "execution_count": null,
   "metadata": {
    "collapsed": true
   },
   "outputs": [],
   "source": [
    "reduce_ventana_2.print"
   ]
  },
  {
   "cell_type": "code",
   "execution_count": null,
   "metadata": {
    "collapsed": true
   },
   "outputs": [],
   "source": [
    "streamctx.start()"
   ]
  },
  {
   "cell_type": "code",
   "execution_count": null,
   "metadata": {
    "collapsed": true,
    "scrolled": true
   },
   "outputs": [],
   "source": [
    "streamctx.stop()"
   ]
  },
  {
   "cell_type": "markdown",
   "metadata": {},
   "source": [
    "# Ventanas temporales de procesamiento - `groupByKeyAndWindow`"
   ]
  },
  {
   "cell_type": "code",
   "execution_count": null,
   "metadata": {
    "collapsed": true,
    "scrolled": true
   },
   "outputs": [],
   "source": [
    "val streamctx = new StreamingContext(sc, Seconds(15))"
   ]
  },
  {
   "cell_type": "code",
   "execution_count": null,
   "metadata": {
    "collapsed": true,
    "scrolled": true
   },
   "outputs": [],
   "source": [
    "val datos = streamctx.socketTextStream(\"localhost\", 19000)"
   ]
  },
  {
   "cell_type": "code",
   "execution_count": null,
   "metadata": {
    "collapsed": true
   },
   "outputs": [],
   "source": [
    "// Obligatorio al trabajar con estados.\n",
    "streamctx.checkpoint(\"/eoi/streaming/checkpoint\")"
   ]
  },
  {
   "cell_type": "code",
   "execution_count": null,
   "metadata": {
    "collapsed": true
   },
   "outputs": [],
   "source": [
    "datos.print()"
   ]
  },
  {
   "cell_type": "code",
   "execution_count": null,
   "metadata": {
    "collapsed": true,
    "scrolled": true
   },
   "outputs": [],
   "source": [
    "case class Medicion(nodo:String, sensor:String, valor:String)"
   ]
  },
  {
   "cell_type": "code",
   "execution_count": null,
   "metadata": {
    "collapsed": true
   },
   "outputs": [],
   "source": [
    "val medidas = datos.flatMap(x => {\n",
    "    val campos = x.split(\";\")\n",
    "    try {\n",
    "        List(Medicion(campos(0), campos(1), campos(2)))\n",
    "    }\n",
    "    catch {\n",
    "        case e : Throwable => {\n",
    "            // LLamar al sistema de notificación en caso de fallo en la entrada. \n",
    "        }\n",
    "        List ()\n",
    "    }\n",
    "})"
   ]
  },
  {
   "cell_type": "code",
   "execution_count": null,
   "metadata": {
    "collapsed": true
   },
   "outputs": [],
   "source": [
    "// Medidas de dentro de la ventana (45 segundos con desplazamiento de 15 segundos)\n",
    "val ventana = medidas.map(x => (x.nodo, x.sensor, x.valor)).window(Seconds(45), Seconds(15))"
   ]
  },
  {
   "cell_type": "code",
   "execution_count": null,
   "metadata": {
    "collapsed": true
   },
   "outputs": [],
   "source": [
    "ventana.print()"
   ]
  },
  {
   "cell_type": "code",
   "execution_count": null,
   "metadata": {
    "collapsed": true
   },
   "outputs": [],
   "source": [
    "// Medidas producidas por los botonoes dentro de la ventana (45 segundos con desplazamiento de 15 segundos)\n",
    "val group_ventana = medidas.filter(x => x.sensor == \"Boton\").\n",
    "map(x => (x.sensor, x.valor)).\n",
    "groupByKeyAndWindow(Seconds(45), Seconds(15))"
   ]
  },
  {
   "cell_type": "code",
   "execution_count": null,
   "metadata": {
    "collapsed": true
   },
   "outputs": [],
   "source": [
    "group_ventana.print"
   ]
  },
  {
   "cell_type": "code",
   "execution_count": null,
   "metadata": {
    "collapsed": true
   },
   "outputs": [],
   "source": [
    "streamctx.start()"
   ]
  },
  {
   "cell_type": "code",
   "execution_count": null,
   "metadata": {
    "collapsed": true,
    "scrolled": true
   },
   "outputs": [],
   "source": [
    "streamctx.stop()"
   ]
  }
 ],
 "metadata": {
  "kernelspec": {
   "display_name": "Apache Toree - Scala",
   "language": "scala",
   "name": "apache_toree_scala"
  },
  "language_info": {
   "codemirror_mode": "text/x-scala",
   "file_extension": ".scala",
   "mimetype": "text/x-scala",
   "name": "scala",
   "pygments_lexer": "scala",
   "version": "2.11.8"
  }
 },
 "nbformat": 4,
 "nbformat_minor": 2
}
