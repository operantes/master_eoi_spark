{
 "cells": [
  {
   "cell_type": "markdown",
   "metadata": {},
   "source": [
    "# Análisis de los proyectos Horizon 2020"
   ]
  },
  {
   "cell_type": "markdown",
   "metadata": {},
   "source": [
    "## Preparación de la plataforma."
   ]
  },
  {
   "cell_type": "code",
   "execution_count": null,
   "metadata": {
    "collapsed": true
   },
   "outputs": [],
   "source": [
    "import org.apache.spark._"
   ]
  },
  {
   "cell_type": "code",
   "execution_count": null,
   "metadata": {
    "collapsed": true
   },
   "outputs": [],
   "source": [
    "import org.apache.spark.streaming._"
   ]
  },
  {
   "cell_type": "markdown",
   "metadata": {},
   "source": [
    "## Acceso a los datos."
   ]
  },
  {
   "cell_type": "code",
   "execution_count": null,
   "metadata": {
    "collapsed": true
   },
   "outputs": [],
   "source": [
    "// Actividad 1: Cree el objeto StreamingContext indicando que el intervalo entre cada batch es de 30 segundos (Tip: StreamingContext).\n",
    "val streamctx = ..."
   ]
  },
  {
   "cell_type": "code",
   "execution_count": null,
   "metadata": {
    "collapsed": true
   },
   "outputs": [],
   "source": [
    "streamctx.checkpoint(\"/eoi/streaming/checkpoint\")"
   ]
  },
  {
   "cell_type": "code",
   "execution_count": null,
   "metadata": {
    "collapsed": true
   },
   "outputs": [],
   "source": [
    "// Actividad 2: Registrar la siguiente fuente de datos: tipo: socket - dirección: localhost - puerto: 19005 (Tip: socketTextStream)\n",
    "val datos = ..."
   ]
  },
  {
   "cell_type": "code",
   "execution_count": null,
   "metadata": {
    "collapsed": true
   },
   "outputs": [],
   "source": [
    "datos.print()"
   ]
  },
  {
   "cell_type": "code",
   "execution_count": null,
   "metadata": {
    "collapsed": true
   },
   "outputs": [],
   "source": [
    "case class ProyectoParticipante(projectID: Int, projectAcronym: String,\n",
    "                                role: String, id:Int, name:String, shortName:String, \n",
    "                                ecContribution:Double, country: String)"
   ]
  },
  {
   "cell_type": "code",
   "execution_count": null,
   "metadata": {
    "collapsed": true
   },
   "outputs": [],
   "source": [
    "val datos_f = datos.flatMap(x => {\n",
    "    val campos = x.split(\";\")  \n",
    "    var cantidad = 0.0\n",
    "    if (campos(9).isEmpty == false) {\n",
    "        cantidad = campos(9).replace(',', '.').toDouble\n",
    "    }\n",
    "    try {\n",
    "        // Actividad 3: Crear una lista de objetos tipo ProyectoParticipante con los valores correspondientes (Tip: List y ProyectoParticipante).\n",
    "        ...\n",
    "    }\n",
    "    catch {\n",
    "        case e : Throwable => {\n",
    "            // LLamar al sistema de notificación en caso de fallo en la entrada. \n",
    "        }\n",
    "        List ()\n",
    "    }\n",
    "})"
   ]
  },
  {
   "cell_type": "markdown",
   "metadata": {},
   "source": [
    "## Calcular la inversión de la Unión Europea en cada uno de los países."
   ]
  },
  {
   "cell_type": "code",
   "execution_count": null,
   "metadata": {
    "collapsed": true
   },
   "outputs": [],
   "source": [
    "val inv_per_country_batch = datos_f.map(x => (x.country, x.ecContribution)).reduceByKey(_ + _)"
   ]
  },
  {
   "cell_type": "code",
   "execution_count": null,
   "metadata": {
    "collapsed": true
   },
   "outputs": [],
   "source": [
    "// Actividad 4: Implemente, mediante updateStateByKey, un sentencia que cree un DStream que almacene la inversión de la Europea en cada uno de los países.\n",
    "val inv_per_country = ..."
   ]
  },
  {
   "cell_type": "code",
   "execution_count": null,
   "metadata": {
    "collapsed": true
   },
   "outputs": [],
   "source": [
    "inv_per_country.print()"
   ]
  },
  {
   "cell_type": "markdown",
   "metadata": {},
   "source": [
    "## Calcular el número de financiaciones de la Unión Europea en cada uno de los países."
   ]
  },
  {
   "cell_type": "code",
   "execution_count": null,
   "metadata": {
    "collapsed": true
   },
   "outputs": [],
   "source": [
    "val num_per_country_batch = datos_f.map(x => (x.country,1)).reduceByKey(_ + _)"
   ]
  },
  {
   "cell_type": "code",
   "execution_count": null,
   "metadata": {
    "collapsed": true
   },
   "outputs": [],
   "source": [
    "val actualiza_stats = (country:String, value:Option[Int], estado:State[Int]) => {\n",
    "    // Valor incial: el obtenido del RDD.\n",
    "    var total = value.getOrElse(0)\n",
    "    \n",
    "    // Si existe el estado, se actualiza.\n",
    "    if (estado.exists == true) {\n",
    "        total += estado.get()\n",
    "    } \n",
    "    // Actividad 5: Actualice el estado a guardar con el valor de la variable total.\n",
    "    ...\n",
    "    // Actividad 6: Devuelva los valores según el formato de la función actualiza_stats.\n",
    "    ...\n",
    "}"
   ]
  },
  {
   "cell_type": "code",
   "execution_count": null,
   "metadata": {
    "collapsed": true
   },
   "outputs": [],
   "source": [
    "// Actividad 7: Implemente, mediante mapWithState, un sentencia que cree un DStream que almacene el número de financiaciones de la EU en cada uno de los países.\n",
    "val num_per_country = ..."
   ]
  },
  {
   "cell_type": "code",
   "execution_count": null,
   "metadata": {
    "collapsed": true
   },
   "outputs": [],
   "source": [
    "num_per_country.print()"
   ]
  },
  {
   "cell_type": "markdown",
   "metadata": {},
   "source": [
    "## Obtener la lista ordenada descendente de los paises que han recibido financiación en el último minuto."
   ]
  },
  {
   "cell_type": "code",
   "execution_count": null,
   "metadata": {
    "collapsed": true
   },
   "outputs": [],
   "source": [
    "// Actividad 8: Obtener los paises que han recibido más financiación en el último minuto (Tip: window y reduceByKey).\n",
    "val top_country = ..."
   ]
  },
  {
   "cell_type": "code",
   "execution_count": null,
   "metadata": {
    "collapsed": true
   },
   "outputs": [],
   "source": [
    "top_country.print()"
   ]
  },
  {
   "cell_type": "markdown",
   "metadata": {},
   "source": [
    "## Inicia el análisis de datos en streaming."
   ]
  },
  {
   "cell_type": "code",
   "execution_count": null,
   "metadata": {
    "collapsed": true
   },
   "outputs": [],
   "source": [
    "// Actividad 9: Iniciar el procesamiento de los datos.\n",
    "..."
   ]
  },
  {
   "cell_type": "markdown",
   "metadata": {},
   "source": [
    "## Para el análisis de datos en streaming."
   ]
  },
  {
   "cell_type": "code",
   "execution_count": null,
   "metadata": {
    "collapsed": true
   },
   "outputs": [],
   "source": [
    "// Actividad 10: Parar el procesamiento de los datos.\n",
    "..."
   ]
  }
 ],
 "metadata": {
  "kernelspec": {
   "display_name": "Apache Toree - Scala",
   "language": "scala",
   "name": "apache_toree_scala"
  },
  "language_info": {
   "codemirror_mode": "text/x-scala",
   "file_extension": ".scala",
   "mimetype": "text/x-scala",
   "name": "scala",
   "pygments_lexer": "scala",
   "version": "2.11.12"
  }
 },
 "nbformat": 4,
 "nbformat_minor": 2
}
