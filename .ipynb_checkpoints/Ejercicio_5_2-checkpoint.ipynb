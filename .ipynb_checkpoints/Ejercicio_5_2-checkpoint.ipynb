{
 "cells": [
  {
   "cell_type": "markdown",
   "metadata": {},
   "source": [
    "# Persistencia del estado entre batches - `updateStateByKey`"
   ]
  },
  {
   "cell_type": "code",
   "execution_count": null,
   "metadata": {
    "collapsed": true
   },
   "outputs": [],
   "source": [
    "import org.apache.spark._"
   ]
  },
  {
   "cell_type": "code",
   "execution_count": null,
   "metadata": {
    "collapsed": true
   },
   "outputs": [],
   "source": [
    "import org.apache.spark.streaming._"
   ]
  },
  {
   "cell_type": "code",
   "execution_count": null,
   "metadata": {},
   "outputs": [],
   "source": [
    "val streamctx = new StreamingContext(sc, Seconds(30))"
   ]
  },
  {
   "cell_type": "code",
   "execution_count": null,
   "metadata": {},
   "outputs": [],
   "source": [
    "val datos = streamctx.socketTextStream(\"localhost\", 19000)"
   ]
  },
  {
   "cell_type": "code",
   "execution_count": null,
   "metadata": {
    "collapsed": true
   },
   "outputs": [],
   "source": [
    "// Obligatorio al trabajar con estados.\n",
    "streamctx.checkpoint(\"/eoi/streaming/checkpoint\")"
   ]
  },
  {
   "cell_type": "code",
   "execution_count": null,
   "metadata": {
    "collapsed": true
   },
   "outputs": [],
   "source": [
    "datos.print()"
   ]
  },
  {
   "cell_type": "code",
   "execution_count": null,
   "metadata": {},
   "outputs": [],
   "source": [
    "case class Medicion(nodo:String, sensor:String, valor:String)"
   ]
  },
  {
   "cell_type": "code",
   "execution_count": null,
   "metadata": {},
   "outputs": [],
   "source": [
    "val medidas = datos.flatMap(x => {\n",
    "    val campos = x.split(\";\")\n",
    "    try {\n",
    "        List(Medicion(campos(0), campos(1), campos(2)))\n",
    "    }\n",
    "    catch {\n",
    "        case e : Throwable => {\n",
    "            // LLamar al sistema de notificación en caso de fallo en la entrada. \n",
    "        }\n",
    "        List ()\n",
    "    }\n",
    "})"
   ]
  },
  {
   "cell_type": "code",
   "execution_count": null,
   "metadata": {},
   "outputs": [],
   "source": [
    "// Calcula cuántos datos de cada sensor se recibe en cada batch - Acumulado entre batches.\n",
    "val aux_sensor = medidas.map(x => (x.sensor, 1)).reduceByKey(_ + _)"
   ]
  },
  {
   "cell_type": "code",
   "execution_count": null,
   "metadata": {},
   "outputs": [],
   "source": [
    "val resultado_sensor = aux_sensor.updateStateByKey((entrada, estado:Option[Int]) => {\n",
    "                                                   if (estado.isEmpty == true) {\n",
    "                                                       Some(entrada.sum)\n",
    "                                                   } else {\n",
    "                                                       Some(entrada.sum + estado.getOrElse(0))\n",
    "                                                   }})"
   ]
  },
  {
   "cell_type": "code",
   "execution_count": null,
   "metadata": {
    "collapsed": true
   },
   "outputs": [],
   "source": [
    "resultado_sensor.print"
   ]
  },
  {
   "cell_type": "code",
   "execution_count": null,
   "metadata": {},
   "outputs": [],
   "source": [
    "// Calcula cuántos datos de cada nodo se recibe en cada batch - Acumulado entre batches.\n",
    "val aux_nodo = medidas.map(x => (x.nodo, 1)).reduceByKey(_ + _)"
   ]
  },
  {
   "cell_type": "code",
   "execution_count": null,
   "metadata": {
    "scrolled": true
   },
   "outputs": [],
   "source": [
    "val resultado_nodo = aux_nodo.updateStateByKey((entrada, estado:Option[Int]) => {\n",
    "                                               estado match {\n",
    "                                                    case None => Some(entrada.sum)\n",
    "                                                    case Some(acum) => Some(acum + entrada.sum)   \n",
    "                                               }})"
   ]
  },
  {
   "cell_type": "code",
   "execution_count": null,
   "metadata": {
    "collapsed": true,
    "scrolled": true
   },
   "outputs": [],
   "source": [
    "resultado_nodo.print"
   ]
  },
  {
   "cell_type": "code",
   "execution_count": null,
   "metadata": {},
   "outputs": [],
   "source": [
    "// Mostrar el nodo que más medidas ha transmitido.\n",
    "val resultado_max = resultado_nodo.transform(x => x.sortBy(x => x._2, false))"
   ]
  },
  {
   "cell_type": "code",
   "execution_count": null,
   "metadata": {
    "collapsed": true
   },
   "outputs": [],
   "source": [
    "resultado_max.print"
   ]
  },
  {
   "cell_type": "code",
   "execution_count": null,
   "metadata": {
    "scrolled": true
   },
   "outputs": [],
   "source": [
    "streamctx.start()"
   ]
  },
  {
   "cell_type": "code",
   "execution_count": null,
   "metadata": {
    "collapsed": true
   },
   "outputs": [],
   "source": [
    "streamctx.stop()"
   ]
  },
  {
   "cell_type": "markdown",
   "metadata": {},
   "source": [
    "# Persistencia del estado entre batches - `mapWithState`"
   ]
  },
  {
   "cell_type": "code",
   "execution_count": null,
   "metadata": {
    "collapsed": true
   },
   "outputs": [],
   "source": [
    "import org.apache.spark._"
   ]
  },
  {
   "cell_type": "code",
   "execution_count": null,
   "metadata": {
    "collapsed": true
   },
   "outputs": [],
   "source": [
    "import org.apache.spark.streaming._"
   ]
  },
  {
   "cell_type": "code",
   "execution_count": null,
   "metadata": {},
   "outputs": [],
   "source": [
    "val streamctx = new StreamingContext(sc, Seconds(30))"
   ]
  },
  {
   "cell_type": "code",
   "execution_count": null,
   "metadata": {},
   "outputs": [],
   "source": [
    "val datos = streamctx.socketTextStream(\"localhost\", 19000)"
   ]
  },
  {
   "cell_type": "code",
   "execution_count": null,
   "metadata": {
    "collapsed": true
   },
   "outputs": [],
   "source": [
    "// Obligatorio al trabajar con estados.\n",
    "streamctx.checkpoint(\"/eoi/streaming/checkpoint\")"
   ]
  },
  {
   "cell_type": "code",
   "execution_count": null,
   "metadata": {
    "collapsed": true
   },
   "outputs": [],
   "source": [
    "datos.print()"
   ]
  },
  {
   "cell_type": "code",
   "execution_count": null,
   "metadata": {},
   "outputs": [],
   "source": [
    "case class Medicion(nodo:String, sensor:String, valor:String)"
   ]
  },
  {
   "cell_type": "code",
   "execution_count": null,
   "metadata": {},
   "outputs": [],
   "source": [
    "val medidas = datos.flatMap(x => {\n",
    "    val campos = x.split(\";\")\n",
    "    try {\n",
    "        List(Medicion(campos(0), campos(1), campos(2)))\n",
    "    }\n",
    "    catch {\n",
    "        case e : Throwable => {\n",
    "            // LLamar al sistema de notificación en caso de fallo en la entrada. \n",
    "        }\n",
    "        List ()\n",
    "    }\n",
    "})"
   ]
  },
  {
   "cell_type": "code",
   "execution_count": null,
   "metadata": {},
   "outputs": [],
   "source": [
    "// Calcula cuántos datos de cada sensor se recibe en cada batch - Acumulado entre batches.\n",
    "val aux_sensor = medidas.map(x => (x.sensor, 1)).reduceByKey(_ + _)"
   ]
  },
  {
   "cell_type": "code",
   "execution_count": null,
   "metadata": {},
   "outputs": [],
   "source": [
    "val actualiza_sensor = (sensor:String, value:Option[Int], estado:State[Int]) => {\n",
    "    // Valor incial: el obtenido del RDD.\n",
    "    var total = value.getOrElse(0)\n",
    "    \n",
    "    // Si existe el estado, se actualiza.\n",
    "    if (estado.exists == true) {\n",
    "        total = total + estado.get()\n",
    "    } \n",
    "    // Actualiza el estado.\n",
    "    estado.update(total)\n",
    "    // Devuelve el nuevo valor.\n",
    "    Some((sensor, total))\n",
    "}"
   ]
  },
  {
   "cell_type": "code",
   "execution_count": null,
   "metadata": {},
   "outputs": [],
   "source": [
    "// Acumulado del número de medidas de cada sensor.\n",
    "val resultado_sensor = aux_sensor.mapWithState(StateSpec.function(actualiza_sensor)).stateSnapshots()"
   ]
  },
  {
   "cell_type": "code",
   "execution_count": null,
   "metadata": {
    "collapsed": true
   },
   "outputs": [],
   "source": [
    "resultado_sensor.print"
   ]
  },
  {
   "cell_type": "code",
   "execution_count": null,
   "metadata": {},
   "outputs": [],
   "source": [
    "// Calcula la media de las medidas de temperatura.\n",
    "val sum_temp = medidas.filter(x => x.sensor == \"Temp\").map(x => (x.sensor, x.valor.toDouble)).\n",
    "            transform(x => x.aggregateByKey((0.0, 0.0))((acc, valor) => (acc._1 + valor, acc._2 + 1),\n",
    "                                                        (acc1, acc2) => (acc1._1 + acc2._1, acc1._2 + acc2._2)).\n",
    "                            mapValues(sumCount => 1.0 * sumCount._1 / sumCount._2))"
   ]
  },
  {
   "cell_type": "code",
   "execution_count": null,
   "metadata": {},
   "outputs": [],
   "source": [
    "val actualiza_avg_temp = (sensor:String, value:Option[Double], estado:State[Double]) => {\n",
    "    // Valor incial: el obtenido del RDD.\n",
    "    var total = value.getOrElse(0.0)\n",
    "    \n",
    "    // Si existe el estado, se actualiza.\n",
    "    if (estado.exists == true && estado.isTimingOut == false) {\n",
    "        val aux = estado.get()\n",
    "        if (total < aux) {\n",
    "            total = aux\n",
    "        }\n",
    "    } \n",
    "    // Actualiza el estado.\n",
    "    estado.update(total)\n",
    "    // Devuelve el nuevo valor.\n",
    "    Some((sensor, total))\n",
    "}"
   ]
  },
  {
   "cell_type": "code",
   "execution_count": null,
   "metadata": {},
   "outputs": [],
   "source": [
    "// Máxima de la media de temperaturas en cada batch.\n",
    "val resultado_max_avg = sum_temp.mapWithState(StateSpec.function(actualiza_avg_temp).timeout(Seconds(45))).stateSnapshots()"
   ]
  },
  {
   "cell_type": "code",
   "execution_count": null,
   "metadata": {
    "collapsed": true
   },
   "outputs": [],
   "source": [
    "resultado_max_avg.print"
   ]
  },
  {
   "cell_type": "code",
   "execution_count": null,
   "metadata": {
    "scrolled": true
   },
   "outputs": [],
   "source": [
    "streamctx.start()"
   ]
  },
  {
   "cell_type": "code",
   "execution_count": null,
   "metadata": {},
   "outputs": [],
   "source": [
    "streamctx.stop()"
   ]
  },
  {
   "cell_type": "code",
   "execution_count": null,
   "metadata": {
    "collapsed": true
   },
   "outputs": [],
   "source": []
  }
 ],
 "metadata": {
  "kernelspec": {
   "display_name": "Apache Toree - Scala",
   "language": "scala",
   "name": "apache_toree_scala"
  },
  "language_info": {
   "codemirror_mode": "text/x-scala",
   "file_extension": ".scala",
   "mimetype": "text/x-scala",
   "name": "scala",
   "pygments_lexer": "scala",
   "version": "2.11.12"
  }
 },
 "nbformat": 4,
 "nbformat_minor": 2
}
