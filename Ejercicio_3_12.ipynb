{
 "cells": [
  {
   "cell_type": "markdown",
   "metadata": {
    "collapsed": true
   },
   "source": [
    "# Uso del `AccumulatorV2`"
   ]
  },
  {
   "cell_type": "markdown",
   "metadata": {},
   "source": [
    "Ejecutar en **spark-shell** con master **local**."
   ]
  },
  {
   "cell_type": "code",
   "execution_count": null,
   "metadata": {
    "collapsed": true
   },
   "outputs": [],
   "source": [
    "// Define la clase AvgAccumulatorV2\n",
    "class AvgAccumulator(n:Int, t:Int) extends org.apache.spark.util.AccumulatorV2[Int, (Int, Int)] {\n",
    "    private var numero:Int = n\n",
    "    private var total:Int = t\n",
    "    \n",
    "    def this() = this(0, 0)\n",
    "    \n",
    "    def reset(): Unit = {\n",
    "        numero = 0\n",
    "        total = 0\n",
    "    }\n",
    "    \n",
    "    def add(v: Int): Unit = {\n",
    "        numero = numero + 1\n",
    "        total = total + v\n",
    "    }\n",
    "    \n",
    "    def isZero():Boolean = {\n",
    "        if (numero == 0 && total == 0) {\n",
    "            true\n",
    "        } else {\n",
    "            false\n",
    "        }\n",
    "    }\n",
    "    \n",
    "    def value():(Int, Int) = {\n",
    "        (numero, total)\n",
    "    }\n",
    "    \n",
    "    def merge(aux:org.apache.spark.util.AccumulatorV2[Int,(Int, Int)]): Unit = {\n",
    "        val other = aux.value\n",
    "        numero = numero + other._1\n",
    "        total = total + other._2\n",
    "    }\n",
    "    \n",
    "    def copy(): AvgAccumulator = {\n",
    "        new AvgAccumulator(numero, total)\n",
    "    }\n",
    "}"
   ]
  },
  {
   "cell_type": "code",
   "execution_count": null,
   "metadata": {
    "collapsed": true
   },
   "outputs": [],
   "source": [
    "val ejercicio = new AvgAccumulator"
   ]
  },
  {
   "cell_type": "code",
   "execution_count": null,
   "metadata": {
    "collapsed": true
   },
   "outputs": [],
   "source": [
    "sc.register(ejercicio, \"NumeroTotal\")"
   ]
  },
  {
   "cell_type": "code",
   "execution_count": null,
   "metadata": {
    "collapsed": true
   },
   "outputs": [],
   "source": [
    "val datos = sc.parallelize(1 to 1000)"
   ]
  },
  {
   "cell_type": "code",
   "execution_count": null,
   "metadata": {
    "collapsed": true
   },
   "outputs": [],
   "source": [
    "datos.foreach(x => ejercicio.add(x))"
   ]
  },
  {
   "cell_type": "code",
   "execution_count": null,
   "metadata": {
    "collapsed": true
   },
   "outputs": [],
   "source": [
    "ejercicio.value"
   ]
  }
 ],
 "metadata": {
  "kernelspec": {
   "display_name": "Apache Toree - Scala",
   "language": "scala",
   "name": "apache_toree_scala"
  },
  "language_info": {
   "codemirror_mode": "text/x-scala",
   "file_extension": ".scala",
   "mimetype": "text/x-scala",
   "name": "scala",
   "pygments_lexer": "scala",
   "version": "2.11.8"
  }
 },
 "nbformat": 4,
 "nbformat_minor": 2
}
