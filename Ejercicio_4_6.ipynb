{
 "cells": [
  {
   "cell_type": "markdown",
   "metadata": {},
   "source": [
    "# Funciones SQL"
   ]
  },
  {
   "cell_type": "code",
   "execution_count": null,
   "metadata": {
    "collapsed": true
   },
   "outputs": [],
   "source": [
    "import org.apache.spark.sql.SparkSession"
   ]
  },
  {
   "cell_type": "code",
   "execution_count": null,
   "metadata": {
    "collapsed": true
   },
   "outputs": [],
   "source": [
    "val spark = SparkSession.builder.getOrCreate()"
   ]
  },
  {
   "cell_type": "code",
   "execution_count": null,
   "metadata": {
    "collapsed": true
   },
   "outputs": [],
   "source": [
    "import spark.implicits._"
   ]
  },
  {
   "cell_type": "code",
   "execution_count": null,
   "metadata": {
    "collapsed": true
   },
   "outputs": [],
   "source": [
    "import org.apache.spark.sql.types._"
   ]
  },
  {
   "cell_type": "code",
   "execution_count": null,
   "metadata": {
    "collapsed": true
   },
   "outputs": [],
   "source": [
    "val MesaElectoralSchema = StructType(Seq(\n",
    "    StructField(\"Distrito\", IntegerType, false),\n",
    "    StructField(\"Barrio\", IntegerType, false),\n",
    "    StructField(\"Seccion\", IntegerType, false),\n",
    "    StructField(\"Mesa\", StringType, false),\n",
    "    StructField(\"Censo\", IntegerType, false),\n",
    "    StructField(\"Abstencion\", IntegerType, true),\n",
    "    StructField(\"Nulos\", IntegerType, true),\n",
    "    StructField(\"Blanco\", IntegerType, true),\n",
    "    StructField(\"Emitidos\", IntegerType, false))) "
   ]
  },
  {
   "cell_type": "code",
   "execution_count": null,
   "metadata": {
    "collapsed": true
   },
   "outputs": [],
   "source": [
    "object StringUtils {\n",
    "    implicit class StringImprovements(val s:String) {\n",
    "        import scala.util.control.Exception._\n",
    "        def toIntSafe = catching(classOf[NumberFormatException]) opt s.toInt\n",
    "    }\n",
    "}"
   ]
  },
  {
   "cell_type": "code",
   "execution_count": null,
   "metadata": {
    "collapsed": true
   },
   "outputs": [],
   "source": [
    "import StringUtils._"
   ]
  },
  {
   "cell_type": "code",
   "execution_count": null,
   "metadata": {
    "collapsed": true
   },
   "outputs": [],
   "source": [
    "import org.apache.spark.sql.Row"
   ]
  },
  {
   "cell_type": "code",
   "execution_count": null,
   "metadata": {
    "collapsed": true
   },
   "outputs": [],
   "source": [
    "def stringToRow(row:String):Row = {\n",
    "    val x = row.split(\";\")\n",
    "    Row(x(0).toInt, x(1).toInt, x(2).toInt, x(3).slice(0, 1), x(4).toInt, \n",
    "                    x(5).toIntSafe.getOrElse(null), x(7).toIntSafe.getOrElse(null), x(9).toIntSafe.getOrElse(null), \n",
    "                    (x(11).toInt + x(12).toInt + x(13).toInt + x(14).toInt +\n",
    "                    x(15).toInt + x(16).toInt + x(17).toInt + x(18).toInt + x(19).toInt +\n",
    "                    x(20).toInt + x(21).toInt + x(22).toInt + x(23).toInt + x(24).toInt +\n",
    "                    x(25).toInt + x(26).toInt + x(27).toInt + x(28).toInt + x(29).toInt +\n",
    "                    x(30).toInt + x(31).toInt + x(32).toInt))\n",
    "}"
   ]
  },
  {
   "cell_type": "code",
   "execution_count": null,
   "metadata": {
    "collapsed": true
   },
   "outputs": [],
   "source": [
    "val elecciones_2015_rdd = sc.textFile(\"hdfs:///eoi/s4/elecciones/Elecciones_2015_NH.csv\")"
   ]
  },
  {
   "cell_type": "code",
   "execution_count": null,
   "metadata": {
    "collapsed": true
   },
   "outputs": [],
   "source": [
    "val elecciones_2015 = elecciones_2015_rdd.map(r => stringToRow(r))"
   ]
  },
  {
   "cell_type": "code",
   "execution_count": null,
   "metadata": {
    "collapsed": true
   },
   "outputs": [],
   "source": [
    "val elecciones_2015_DF = spark.createDataFrame(elecciones_2015, MesaElectoralSchema).cache"
   ]
  },
  {
   "cell_type": "code",
   "execution_count": null,
   "metadata": {
    "collapsed": true
   },
   "outputs": [],
   "source": [
    "elecciones_2015_DF.show"
   ]
  },
  {
   "cell_type": "code",
   "execution_count": null,
   "metadata": {
    "collapsed": true
   },
   "outputs": [],
   "source": [
    "elecciones_2015_DF.printSchema"
   ]
  },
  {
   "cell_type": "code",
   "execution_count": null,
   "metadata": {
    "collapsed": true
   },
   "outputs": [],
   "source": [
    "elecciones_2015_DF.columns"
   ]
  },
  {
   "cell_type": "code",
   "execution_count": null,
   "metadata": {
    "collapsed": true
   },
   "outputs": [],
   "source": [
    "elecciones_2015_DF.dtypes"
   ]
  },
  {
   "cell_type": "code",
   "execution_count": null,
   "metadata": {
    "collapsed": true
   },
   "outputs": [],
   "source": [
    "import org.apache.spark.sql.functions._"
   ]
  },
  {
   "cell_type": "markdown",
   "metadata": {},
   "source": [
    "# Ejemplo de funciones `Math`"
   ]
  },
  {
   "cell_type": "code",
   "execution_count": null,
   "metadata": {
    "collapsed": true
   },
   "outputs": [],
   "source": [
    "val res = elecciones_2015_DF.select($\"Distrito\", $\"Barrio\", $\"Seccion\", \n",
    "                                    round(($\"Emitidos\" / $\"Censo\"),4) as \"Participacion\")"
   ]
  },
  {
   "cell_type": "code",
   "execution_count": null,
   "metadata": {
    "collapsed": true
   },
   "outputs": [],
   "source": [
    "res.show"
   ]
  },
  {
   "cell_type": "markdown",
   "metadata": {},
   "source": [
    "# Ejemplo de funciones `Sort`"
   ]
  },
  {
   "cell_type": "code",
   "execution_count": null,
   "metadata": {
    "collapsed": true
   },
   "outputs": [],
   "source": [
    "val res_2 = res.sort(asc(\"Participacion\"))"
   ]
  },
  {
   "cell_type": "code",
   "execution_count": null,
   "metadata": {
    "collapsed": true
   },
   "outputs": [],
   "source": [
    "res_2.show"
   ]
  },
  {
   "cell_type": "code",
   "execution_count": null,
   "metadata": {
    "collapsed": true,
    "scrolled": false
   },
   "outputs": [],
   "source": [
    "val res_2 = res.sort(asc(\"Participacion\"))"
   ]
  },
  {
   "cell_type": "code",
   "execution_count": null,
   "metadata": {
    "collapsed": true
   },
   "outputs": [],
   "source": [
    "res_2.show"
   ]
  },
  {
   "cell_type": "markdown",
   "metadata": {},
   "source": [
    "# Ejemplo de funciones `String`"
   ]
  },
  {
   "cell_type": "code",
   "execution_count": null,
   "metadata": {
    "collapsed": true
   },
   "outputs": [],
   "source": [
    "val res = elecciones_2015_DF.select($\"Distrito\", $\"Barrio\", $\"Seccion\", $\"Mesa\").head.getString(3)"
   ]
  },
  {
   "cell_type": "code",
   "execution_count": null,
   "metadata": {
    "collapsed": true
   },
   "outputs": [],
   "source": [
    "val res = elecciones_2015_DF.select($\"Distrito\", $\"Barrio\", $\"Seccion\", lower($\"Mesa\")).head"
   ]
  },
  {
   "cell_type": "markdown",
   "metadata": {},
   "source": [
    "# Ejemplo de funciones `Date-time`"
   ]
  },
  {
   "cell_type": "code",
   "execution_count": null,
   "metadata": {
    "collapsed": true
   },
   "outputs": [],
   "source": [
    "val aux = elecciones_2015_DF.withColumn(\"Fecha\", typedLit(1432418400))"
   ]
  },
  {
   "cell_type": "code",
   "execution_count": null,
   "metadata": {
    "collapsed": true
   },
   "outputs": [],
   "source": [
    "aux.show()"
   ]
  },
  {
   "cell_type": "code",
   "execution_count": null,
   "metadata": {
    "collapsed": true
   },
   "outputs": [],
   "source": [
    "val res = aux.withColumn(\"Fecha\", from_unixtime($\"Fecha\"))"
   ]
  },
  {
   "cell_type": "code",
   "execution_count": null,
   "metadata": {
    "collapsed": true
   },
   "outputs": [],
   "source": [
    "res.show"
   ]
  },
  {
   "cell_type": "code",
   "execution_count": null,
   "metadata": {
    "collapsed": true
   },
   "outputs": [],
   "source": [
    "val res = aux.withColumn(\"Fecha\", from_unixtime($\"Fecha\", \"dd/MM/YYYY hh:mm:ss\"))"
   ]
  },
  {
   "cell_type": "code",
   "execution_count": null,
   "metadata": {
    "collapsed": true
   },
   "outputs": [],
   "source": [
    "res.show"
   ]
  },
  {
   "cell_type": "markdown",
   "metadata": {},
   "source": [
    "# Ejemplo de funciones de agregación"
   ]
  },
  {
   "cell_type": "code",
   "execution_count": null,
   "metadata": {
    "collapsed": true
   },
   "outputs": [],
   "source": [
    "val res = elecciones_2015_DF.select($\"Distrito\", $\"Barrio\", $\"Seccion\", \n",
    "                                    round(($\"Emitidos\" / $\"Censo\"),4) as \"Participacion\")"
   ]
  },
  {
   "cell_type": "code",
   "execution_count": null,
   "metadata": {
    "collapsed": true
   },
   "outputs": [],
   "source": [
    "val res_2 = res.select(avg($\"Participacion\"), stddev($\"Participacion\"), min($\"Participacion\"), max($\"Participacion\"))"
   ]
  },
  {
   "cell_type": "code",
   "execution_count": null,
   "metadata": {
    "collapsed": true
   },
   "outputs": [],
   "source": [
    "res_2.show"
   ]
  },
  {
   "cell_type": "code",
   "execution_count": null,
   "metadata": {
    "collapsed": true
   },
   "outputs": [],
   "source": [
    "val res_3 = res.groupBy($\"Barrio\").agg(avg($\"Participacion\"), stddev($\"Participacion\"), min($\"Participacion\"), max($\"Participacion\"))\n"
   ]
  },
  {
   "cell_type": "code",
   "execution_count": null,
   "metadata": {
    "collapsed": true
   },
   "outputs": [],
   "source": [
    "res_3.show"
   ]
  },
  {
   "cell_type": "markdown",
   "metadata": {},
   "source": [
    "# Ejemplo de funciones `Window`"
   ]
  },
  {
   "cell_type": "code",
   "execution_count": null,
   "metadata": {
    "collapsed": true
   },
   "outputs": [],
   "source": [
    "import org.apache.spark.sql.expressions.Window"
   ]
  },
  {
   "cell_type": "code",
   "execution_count": null,
   "metadata": {
    "collapsed": true
   },
   "outputs": [],
   "source": [
    "val res = elecciones_2015_DF.filter($\"Distrito\" === 2).select($\"Barrio\", $\"Seccion\", $\"Mesa\", max($\"Censo\")\n",
    ".over(Window.partitionBy($\"Barrio\", $\"Seccion\")) as \"Max Censo Distrito\")"
   ]
  },
  {
   "cell_type": "code",
   "execution_count": null,
   "metadata": {
    "collapsed": true
   },
   "outputs": [],
   "source": [
    "res.show"
   ]
  },
  {
   "cell_type": "code",
   "execution_count": null,
   "metadata": {
    "collapsed": true
   },
   "outputs": [],
   "source": [
    "val res = elecciones_2015_DF.filter($\"Distrito\" === 2).select($\"Barrio\", $\"Seccion\", $\"Mesa\", $\"Censo\", lag($\"Censo\", 1, -1)\n",
    ".over(Window.partitionBy($\"Barrio\", $\"Seccion\").orderBy($\"Barrio\", $\"Seccion\", $\"Mesa\")) as \"Anterior\")\n",
    ".sort($\"Barrio\", $\"Seccion\", $\"Mesa\")"
   ]
  },
  {
   "cell_type": "code",
   "execution_count": null,
   "metadata": {
    "collapsed": true
   },
   "outputs": [],
   "source": [
    "res.show"
   ]
  },
  {
   "cell_type": "markdown",
   "metadata": {},
   "source": [
    "# Ejemplo de funciones `UDF`"
   ]
  },
  {
   "cell_type": "code",
   "execution_count": null,
   "metadata": {
    "collapsed": true
   },
   "outputs": [],
   "source": [
    "val bajaParticipacion = udf((participacion:Double) => if (participacion < 0.25) {true} else {false})"
   ]
  },
  {
   "cell_type": "code",
   "execution_count": null,
   "metadata": {
    "collapsed": true
   },
   "outputs": [],
   "source": [
    "val altaParticipacion = spark.udf.register(\"Alta Participacion\", \n",
    "                                           (participacion:Double) => if (participacion > 0.85) {true} else {false})"
   ]
  },
  {
   "cell_type": "code",
   "execution_count": null,
   "metadata": {
    "collapsed": true
   },
   "outputs": [],
   "source": [
    "val res = elecciones_2015_DF.select($\"Distrito\", $\"Barrio\", $\"Seccion\", \n",
    "                                    round(($\"Emitidos\" / $\"Censo\"),4) as \"Participacion\",\n",
    "                                    bajaParticipacion(($\"Emitidos\" / $\"Censo\")) as \"Baja Participacion\")"
   ]
  },
  {
   "cell_type": "code",
   "execution_count": null,
   "metadata": {
    "collapsed": true
   },
   "outputs": [],
   "source": [
    "res.sort(desc(\"Participacion\")).show"
   ]
  },
  {
   "cell_type": "code",
   "execution_count": null,
   "metadata": {
    "collapsed": true
   },
   "outputs": [],
   "source": [
    "val res = elecciones_2015_DF.select($\"Distrito\", $\"Barrio\", $\"Seccion\", \n",
    "                                    round(($\"Emitidos\" / $\"Censo\"),4) as \"Participacion\",\n",
    "                                    altaParticipacion(($\"Emitidos\" / $\"Censo\")) as \"Alta Participacion\")"
   ]
  },
  {
   "cell_type": "code",
   "execution_count": null,
   "metadata": {
    "collapsed": true
   },
   "outputs": [],
   "source": [
    "res.sort(desc(\"Participacion\")).show"
   ]
  }
 ],
 "metadata": {
  "kernelspec": {
   "display_name": "Spark - Scala",
   "language": "scala",
   "name": "spark_scala"
  },
  "language_info": {
   "codemirror_mode": "text/x-scala",
   "file_extension": ".scala",
   "mimetype": "text/x-scala",
   "name": "scala",
   "pygments_lexer": "scala",
   "version": "2.11.8"
  }
 },
 "nbformat": 4,
 "nbformat_minor": 2
}
